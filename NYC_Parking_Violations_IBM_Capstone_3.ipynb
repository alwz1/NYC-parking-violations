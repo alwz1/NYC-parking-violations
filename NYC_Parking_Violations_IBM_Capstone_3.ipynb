{
    "cells": [
        {
            "cell_type": "markdown",
            "metadata": {},
            "source": "# NYC_Parking_Violations_IBM_Capstone\n## Notebook 3\n## Models to predict top four Violations"
        },
        {
            "cell_type": "code",
            "execution_count": 1,
            "metadata": {},
            "outputs": [
                {
                    "name": "stdout",
                    "output_type": "stream",
                    "text": "Waiting for a Spark session to start...\nSpark Initialization Done! ApplicationId = app-20200418225703-0000\nKERNEL_ID = 455fd538-0082-444f-8f5e-91ddefe01eca\n"
                },
                {
                    "data": {
                        "text/html": "<div>\n<style scoped>\n    .dataframe tbody tr th:only-of-type {\n        vertical-align: middle;\n    }\n\n    .dataframe tbody tr th {\n        vertical-align: top;\n    }\n\n    .dataframe thead th {\n        text-align: right;\n    }\n</style>\n<table border=\"1\" class=\"dataframe\">\n  <thead>\n    <tr style=\"text-align: right;\">\n      <th></th>\n      <th>Unnamed: 0</th>\n      <th>Fine Amount</th>\n      <th>Penalty Amount</th>\n      <th>Reduction Amount</th>\n      <th>Payment Amount</th>\n      <th>Amount Due</th>\n      <th>Precinct</th>\n      <th>Year</th>\n      <th>Month</th>\n      <th>Day</th>\n      <th>State_index</th>\n      <th>License_Type_index</th>\n      <th>Violation_index</th>\n      <th>County_index</th>\n      <th>Issuing_Agency_index</th>\n    </tr>\n  </thead>\n  <tbody>\n    <tr>\n      <th>0</th>\n      <td>0</td>\n      <td>35.0</td>\n      <td>10.0</td>\n      <td>0.0</td>\n      <td>0.0</td>\n      <td>45.00</td>\n      <td>110</td>\n      <td>2018</td>\n      <td>2</td>\n      <td>16</td>\n      <td>0.0</td>\n      <td>1.0</td>\n      <td>2.0</td>\n      <td>2.0</td>\n      <td>0.0</td>\n    </tr>\n    <tr>\n      <th>1</th>\n      <td>1</td>\n      <td>35.0</td>\n      <td>60.0</td>\n      <td>0.0</td>\n      <td>0.0</td>\n      <td>109.94</td>\n      <td>114</td>\n      <td>2017</td>\n      <td>12</td>\n      <td>20</td>\n      <td>0.0</td>\n      <td>0.0</td>\n      <td>2.0</td>\n      <td>2.0</td>\n      <td>0.0</td>\n    </tr>\n    <tr>\n      <th>2</th>\n      <td>2</td>\n      <td>35.0</td>\n      <td>60.0</td>\n      <td>0.0</td>\n      <td>0.0</td>\n      <td>110.91</td>\n      <td>115</td>\n      <td>2017</td>\n      <td>10</td>\n      <td>6</td>\n      <td>1.0</td>\n      <td>0.0</td>\n      <td>2.0</td>\n      <td>2.0</td>\n      <td>0.0</td>\n    </tr>\n    <tr>\n      <th>3</th>\n      <td>3</td>\n      <td>35.0</td>\n      <td>10.0</td>\n      <td>0.0</td>\n      <td>0.0</td>\n      <td>45.00</td>\n      <td>46</td>\n      <td>2018</td>\n      <td>3</td>\n      <td>24</td>\n      <td>10.0</td>\n      <td>0.0</td>\n      <td>2.0</td>\n      <td>3.0</td>\n      <td>0.0</td>\n    </tr>\n    <tr>\n      <th>4</th>\n      <td>4</td>\n      <td>35.0</td>\n      <td>10.0</td>\n      <td>0.0</td>\n      <td>0.0</td>\n      <td>45.00</td>\n      <td>46</td>\n      <td>2018</td>\n      <td>6</td>\n      <td>25</td>\n      <td>3.0</td>\n      <td>0.0</td>\n      <td>2.0</td>\n      <td>3.0</td>\n      <td>0.0</td>\n    </tr>\n  </tbody>\n</table>\n</div>",
                        "text/plain": "   Unnamed: 0  Fine Amount  Penalty Amount  Reduction Amount  Payment Amount  \\\n0           0         35.0            10.0               0.0             0.0   \n1           1         35.0            60.0               0.0             0.0   \n2           2         35.0            60.0               0.0             0.0   \n3           3         35.0            10.0               0.0             0.0   \n4           4         35.0            10.0               0.0             0.0   \n\n   Amount Due  Precinct  Year  Month  Day  State_index  License_Type_index  \\\n0       45.00       110  2018      2   16          0.0                 1.0   \n1      109.94       114  2017     12   20          0.0                 0.0   \n2      110.91       115  2017     10    6          1.0                 0.0   \n3       45.00        46  2018      3   24         10.0                 0.0   \n4       45.00        46  2018      6   25          3.0                 0.0   \n\n   Violation_index  County_index  Issuing_Agency_index  \n0              2.0           2.0                   0.0  \n1              2.0           2.0                   0.0  \n2              2.0           2.0                   0.0  \n3              2.0           3.0                   0.0  \n4              2.0           3.0                   0.0  "
                    },
                    "execution_count": 1,
                    "metadata": {},
                    "output_type": "execute_result"
                }
            ],
            "source": "# The code was removed by Watson Studio for sharing."
        },
        {
            "cell_type": "code",
            "execution_count": 2,
            "metadata": {},
            "outputs": [],
            "source": "import numpy as np\nimport pandas as pd\nimport matplotlib.pyplot as plt\nfrom tensorflow.keras.models import Sequential\nfrom tensorflow.keras.layers import Dense\nfrom sklearn.metrics import classification_report,confusion_matrix\nfrom sklearn.preprocessing import MinMaxScaler\nfrom pyspark.ml.feature import VectorAssembler"
        },
        {
            "cell_type": "code",
            "execution_count": 3,
            "metadata": {},
            "outputs": [],
            "source": "%matplotlib inline"
        },
        {
            "cell_type": "markdown",
            "metadata": {},
            "source": "### Split training and test data"
        },
        {
            "cell_type": "code",
            "execution_count": 4,
            "metadata": {},
            "outputs": [],
            "source": "from sklearn.model_selection import train_test_split"
        },
        {
            "cell_type": "code",
            "execution_count": 5,
            "metadata": {},
            "outputs": [],
            "source": "X = df_data_5[['Fine Amount', 'Penalty Amount', 'Reduction Amount', 'Payment Amount',\n       'Amount Due', 'Precinct', 'Year', 'Month', 'Day', 'State_index',\n       'License_Type_index', 'County_index',\n       'Issuing_Agency_index']].values"
        },
        {
            "cell_type": "code",
            "execution_count": 6,
            "metadata": {},
            "outputs": [],
            "source": "y = df_data_5[['Violation_index']].values"
        },
        {
            "cell_type": "code",
            "execution_count": 7,
            "metadata": {},
            "outputs": [],
            "source": "X_train, X_test, y_train, y_test = train_test_split(X, y, test_size=0.3, random_state=42)"
        },
        {
            "cell_type": "code",
            "execution_count": 8,
            "metadata": {},
            "outputs": [
                {
                    "data": {
                        "text/plain": "(67869, 13)"
                    },
                    "execution_count": 8,
                    "metadata": {},
                    "output_type": "execute_result"
                }
            ],
            "source": "X_train.shape"
        },
        {
            "cell_type": "code",
            "execution_count": 9,
            "metadata": {},
            "outputs": [
                {
                    "data": {
                        "text/plain": "(29088, 13)"
                    },
                    "execution_count": 9,
                    "metadata": {},
                    "output_type": "execute_result"
                }
            ],
            "source": "X_test.shape"
        },
        {
            "cell_type": "markdown",
            "metadata": {},
            "source": "## Deep Learning model without data normalization"
        },
        {
            "cell_type": "code",
            "execution_count": 10,
            "metadata": {},
            "outputs": [
                {
                    "name": "stderr",
                    "output_type": "stream",
                    "text": "WARNING:tensorflow:From /opt/ibm/conda/miniconda3.6/lib/python3.6/site-packages/tensorflow/python/ops/resource_variable_ops.py:435: colocate_with (from tensorflow.python.framework.ops) is deprecated and will be removed in a future version.\nInstructions for updating:\nColocations handled automatically by placer.\n"
                }
            ],
            "source": "model = Sequential()\n\nmodel.add(Dense(13,activation='relu'))\n\nmodel.add(Dense(16,activation='relu'))\n\nmodel.add(Dense(16,activation='relu'))\n\nmodel.add(Dense(4,activation='softmax'))\n\n\nmodel.compile(loss ='sparse_categorical_crossentropy', optimizer = 'adam',metrics=['sparse_categorical_accuracy'])\n"
        },
        {
            "cell_type": "code",
            "execution_count": 11,
            "metadata": {},
            "outputs": [
                {
                    "name": "stdout",
                    "output_type": "stream",
                    "text": "Train on 67869 samples, validate on 29088 samples\nEpoch 1/20\n67869/67869 [==============================] - 8s 114us/sample - loss: 11.5355 - sparse_categorical_accuracy: 0.2843 - val_loss: 11.5489 - val_sparse_categorical_accuracy: 0.2835\nEpoch 2/20\n67869/67869 [==============================] - 7s 103us/sample - loss: 11.5355 - sparse_categorical_accuracy: 0.2843 - val_loss: 11.5489 - val_sparse_categorical_accuracy: 0.2835\nEpoch 3/20\n67869/67869 [==============================] - 7s 103us/sample - loss: 11.5355 - sparse_categorical_accuracy: 0.2843 - val_loss: 11.5489 - val_sparse_categorical_accuracy: 0.2835\nEpoch 4/20\n67869/67869 [==============================] - 7s 102us/sample - loss: 11.5355 - sparse_categorical_accuracy: 0.2843 - val_loss: 11.5489 - val_sparse_categorical_accuracy: 0.2835\nEpoch 5/20\n67869/67869 [==============================] - 7s 103us/sample - loss: 11.5355 - sparse_categorical_accuracy: 0.2843 - val_loss: 11.5489 - val_sparse_categorical_accuracy: 0.2835\nEpoch 6/20\n67869/67869 [==============================] - 7s 104us/sample - loss: 11.5355 - sparse_categorical_accuracy: 0.2843 - val_loss: 11.5489 - val_sparse_categorical_accuracy: 0.2835\nEpoch 7/20\n67869/67869 [==============================] - 7s 102us/sample - loss: 11.5355 - sparse_categorical_accuracy: 0.2843 - val_loss: 11.5489 - val_sparse_categorical_accuracy: 0.2835\nEpoch 8/20\n67869/67869 [==============================] - 7s 103us/sample - loss: 11.5355 - sparse_categorical_accuracy: 0.2843 - val_loss: 11.5489 - val_sparse_categorical_accuracy: 0.2835\nEpoch 9/20\n67869/67869 [==============================] - 7s 103us/sample - loss: 11.5355 - sparse_categorical_accuracy: 0.2843 - val_loss: 11.5489 - val_sparse_categorical_accuracy: 0.2835\nEpoch 10/20\n67869/67869 [==============================] - 7s 103us/sample - loss: 11.5355 - sparse_categorical_accuracy: 0.2843 - val_loss: 11.5489 - val_sparse_categorical_accuracy: 0.2835\nEpoch 11/20\n67869/67869 [==============================] - 7s 103us/sample - loss: 11.5355 - sparse_categorical_accuracy: 0.2843 - val_loss: 11.5489 - val_sparse_categorical_accuracy: 0.2835\nEpoch 12/20\n67869/67869 [==============================] - 7s 102us/sample - loss: 11.5355 - sparse_categorical_accuracy: 0.2843 - val_loss: 11.5489 - val_sparse_categorical_accuracy: 0.2835\nEpoch 13/20\n67869/67869 [==============================] - 7s 102us/sample - loss: 11.5355 - sparse_categorical_accuracy: 0.2843 - val_loss: 11.5489 - val_sparse_categorical_accuracy: 0.2835\nEpoch 14/20\n67869/67869 [==============================] - 7s 101us/sample - loss: 11.5355 - sparse_categorical_accuracy: 0.2843 - val_loss: 11.5489 - val_sparse_categorical_accuracy: 0.2835\nEpoch 15/20\n67869/67869 [==============================] - 7s 103us/sample - loss: 11.5355 - sparse_categorical_accuracy: 0.2843 - val_loss: 11.5489 - val_sparse_categorical_accuracy: 0.2835\nEpoch 16/20\n67869/67869 [==============================] - 7s 100us/sample - loss: 11.5355 - sparse_categorical_accuracy: 0.2843 - val_loss: 11.5489 - val_sparse_categorical_accuracy: 0.2835\nEpoch 17/20\n67869/67869 [==============================] - 7s 103us/sample - loss: 11.5355 - sparse_categorical_accuracy: 0.2843 - val_loss: 11.5489 - val_sparse_categorical_accuracy: 0.2835\nEpoch 18/20\n67869/67869 [==============================] - 7s 105us/sample - loss: 11.5355 - sparse_categorical_accuracy: 0.2843 - val_loss: 11.5489 - val_sparse_categorical_accuracy: 0.2835\nEpoch 19/20\n67869/67869 [==============================] - 7s 102us/sample - loss: 11.5355 - sparse_categorical_accuracy: 0.2843 - val_loss: 11.5489 - val_sparse_categorical_accuracy: 0.2835\nEpoch 20/20\n67869/67869 [==============================] - 7s 102us/sample - loss: 11.5355 - sparse_categorical_accuracy: 0.2843 - val_loss: 11.5489 - val_sparse_categorical_accuracy: 0.2835\n"
                },
                {
                    "data": {
                        "text/plain": "<tensorflow.python.keras.callbacks.History at 0x7fc38c1fab00>"
                    },
                    "execution_count": 11,
                    "metadata": {},
                    "output_type": "execute_result"
                }
            ],
            "source": "model.fit(x=X_train,y=y_train,epochs = 20,validation_data=(X_test,y_test))"
        },
        {
            "cell_type": "markdown",
            "metadata": {},
            "source": "### Model Evaluation"
        },
        {
            "cell_type": "code",
            "execution_count": 12,
            "metadata": {},
            "outputs": [
                {
                    "name": "stdout",
                    "output_type": "stream",
                    "text": "accuracy =  0.2843124270439148\nval_accuracy =  0.2834846079349518\n"
                },
                {
                    "data": {
                        "image/png": "[encoded data removed]",
                        "text/plain": "<Figure size 432x288 with 1 Axes>"
                    },
                    "metadata": {
                        "needs_background": "light"
                    },
                    "output_type": "display_data"
                }
            ],
            "source": "losses = pd.DataFrame(model.history.history)\nlosses[['loss','val_loss']].plot()\nplt.xlabel('epochs')\nplt.ylabel('loss')\nprint(\"accuracy = \",losses[['sparse_categorical_accuracy']].iloc[-1][0])\nprint(\"val_accuracy = \",losses[['val_sparse_categorical_accuracy']].iloc[-1][0])"
        },
        {
            "cell_type": "code",
            "execution_count": 13,
            "metadata": {},
            "outputs": [],
            "source": "predictions = model.predict_classes(X_test)"
        },
        {
            "cell_type": "code",
            "execution_count": 14,
            "metadata": {},
            "outputs": [],
            "source": "violation = {'NO PARKING-STREET CLEANING':0,\n             'PHTO SCHOOL ZN SPEED VIOLATION':1,\n             'FAIL TO DSPLY MUNI METER RECPT':2,\n             'NO STANDING-DAY/TIME LIMITS':3}\n#for key in violation:\n#    print(key, ':', violation[key])"
        },
        {
            "cell_type": "code",
            "execution_count": 15,
            "metadata": {},
            "outputs": [
                {
                    "name": "stdout",
                    "output_type": "stream",
                    "text": "              precision    recall  f1-score   support\n\n         0.0       0.00      0.00      0.00      9282\n         1.0       0.28      1.00      0.44      8246\n         2.0       0.00      0.00      0.00      6328\n         3.0       0.00      0.00      0.00      5232\n\n   micro avg       0.28      0.28      0.28     29088\n   macro avg       0.07      0.25      0.11     29088\nweighted avg       0.08      0.28      0.13     29088\n\n"
                },
                {
                    "name": "stderr",
                    "output_type": "stream",
                    "text": "/opt/ibm/conda/miniconda3.6/lib/python3.6/site-packages/sklearn/metrics/classification.py:1143: UndefinedMetricWarning: Precision and F-score are ill-defined and being set to 0.0 in labels with no predicted samples.\n  'precision', 'predicted', average, warn_for)\n"
                }
            ],
            "source": "print(classification_report(y_test,predictions))"
        },
        {
            "cell_type": "code",
            "execution_count": 16,
            "metadata": {},
            "outputs": [
                {
                    "data": {
                        "text/plain": "array([[   0, 9282,    0,    0],\n       [   0, 8246,    0,    0],\n       [   0, 6328,    0,    0],\n       [   0, 5232,    0,    0]])"
                    },
                    "execution_count": 16,
                    "metadata": {},
                    "output_type": "execute_result"
                }
            ],
            "source": "confusion_matrix(y_test,predictions)"
        },
        {
            "cell_type": "markdown",
            "metadata": {},
            "source": "## Deep Learning model with data normalization"
        },
        {
            "cell_type": "code",
            "execution_count": 17,
            "metadata": {},
            "outputs": [],
            "source": "scaler = MinMaxScaler()"
        },
        {
            "cell_type": "code",
            "execution_count": 18,
            "metadata": {},
            "outputs": [
                {
                    "data": {
                        "text/plain": "MinMaxScaler(copy=True, feature_range=(0, 1))"
                    },
                    "execution_count": 18,
                    "metadata": {},
                    "output_type": "execute_result"
                }
            ],
            "source": "scaler.fit(X_train)"
        },
        {
            "cell_type": "code",
            "execution_count": 19,
            "metadata": {},
            "outputs": [],
            "source": "X_train = scaler.transform(X_train)"
        },
        {
            "cell_type": "code",
            "execution_count": 20,
            "metadata": {},
            "outputs": [],
            "source": "X_test = scaler.transform(X_test)"
        },
        {
            "cell_type": "code",
            "execution_count": 21,
            "metadata": {},
            "outputs": [],
            "source": "model = Sequential()\n\nmodel.add(Dense(13,activation='relu'))\n\nmodel.add(Dense(16,activation='relu'))\n\nmodel.add(Dense(16,activation='relu'))\n\nmodel.add(Dense(4,activation='softmax'))\n\nmodel.compile(loss ='sparse_categorical_crossentropy', optimizer = 'adam',metrics=['sparse_categorical_accuracy'])"
        },
        {
            "cell_type": "code",
            "execution_count": 22,
            "metadata": {},
            "outputs": [
                {
                    "name": "stdout",
                    "output_type": "stream",
                    "text": "Train on 67869 samples, validate on 29088 samples\nEpoch 1/20\n67869/67869 [==============================] - 8s 117us/sample - loss: 0.4388 - sparse_categorical_accuracy: 0.8202 - val_loss: 0.1642 - val_sparse_categorical_accuracy: 0.9593\nEpoch 2/20\n67869/67869 [==============================] - 7s 105us/sample - loss: 0.0953 - sparse_categorical_accuracy: 0.9682 - val_loss: 0.0657 - val_sparse_categorical_accuracy: 0.9693\nEpoch 3/20\n67869/67869 [==============================] - 7s 108us/sample - loss: 0.0625 - sparse_categorical_accuracy: 0.9704 - val_loss: 0.0562 - val_sparse_categorical_accuracy: 0.9704\nEpoch 4/20\n67869/67869 [==============================] - 7s 104us/sample - loss: 0.0586 - sparse_categorical_accuracy: 0.9702 - val_loss: 0.0561 - val_sparse_categorical_accuracy: 0.9691\nEpoch 5/20\n67869/67869 [==============================] - 7s 106us/sample - loss: 0.0562 - sparse_categorical_accuracy: 0.9701 - val_loss: 0.0511 - val_sparse_categorical_accuracy: 0.9718\nEpoch 6/20\n67869/67869 [==============================] - 7s 106us/sample - loss: 0.0551 - sparse_categorical_accuracy: 0.9706 - val_loss: 0.0521 - val_sparse_categorical_accuracy: 0.9703\nEpoch 7/20\n67869/67869 [==============================] - 7s 107us/sample - loss: 0.0542 - sparse_categorical_accuracy: 0.9709 - val_loss: 0.0503 - val_sparse_categorical_accuracy: 0.9716\nEpoch 8/20\n67869/67869 [==============================] - 7s 106us/sample - loss: 0.0539 - sparse_categorical_accuracy: 0.9708 - val_loss: 0.0607 - val_sparse_categorical_accuracy: 0.9681\nEpoch 9/20\n67869/67869 [==============================] - 7s 108us/sample - loss: 0.0540 - sparse_categorical_accuracy: 0.9705 - val_loss: 0.0501 - val_sparse_categorical_accuracy: 0.9708\nEpoch 10/20\n67869/67869 [==============================] - 7s 109us/sample - loss: 0.0534 - sparse_categorical_accuracy: 0.9709 - val_loss: 0.0551 - val_sparse_categorical_accuracy: 0.9693\nEpoch 11/20\n67869/67869 [==============================] - 7s 109us/sample - loss: 0.0526 - sparse_categorical_accuracy: 0.9715 - val_loss: 0.0493 - val_sparse_categorical_accuracy: 0.9721\nEpoch 12/20\n67869/67869 [==============================] - 7s 108us/sample - loss: 0.0529 - sparse_categorical_accuracy: 0.9712 - val_loss: 0.0495 - val_sparse_categorical_accuracy: 0.9714\nEpoch 13/20\n67869/67869 [==============================] - 7s 107us/sample - loss: 0.0522 - sparse_categorical_accuracy: 0.9717 - val_loss: 0.0494 - val_sparse_categorical_accuracy: 0.9715\nEpoch 14/20\n67869/67869 [==============================] - 7s 104us/sample - loss: 0.0523 - sparse_categorical_accuracy: 0.9711 - val_loss: 0.0493 - val_sparse_categorical_accuracy: 0.9716\nEpoch 15/20\n67869/67869 [==============================] - 7s 106us/sample - loss: 0.0521 - sparse_categorical_accuracy: 0.9720 - val_loss: 0.0531 - val_sparse_categorical_accuracy: 0.9693\nEpoch 16/20\n67869/67869 [==============================] - 7s 109us/sample - loss: 0.0520 - sparse_categorical_accuracy: 0.9714 - val_loss: 0.0502 - val_sparse_categorical_accuracy: 0.9714\nEpoch 17/20\n67869/67869 [==============================] - 7s 107us/sample - loss: 0.0518 - sparse_categorical_accuracy: 0.9715 - val_loss: 0.0499 - val_sparse_categorical_accuracy: 0.9716\nEpoch 18/20\n67869/67869 [==============================] - 7s 101us/sample - loss: 0.0512 - sparse_categorical_accuracy: 0.9720 - val_loss: 0.0510 - val_sparse_categorical_accuracy: 0.9714\nEpoch 19/20\n67869/67869 [==============================] - 7s 107us/sample - loss: 0.0514 - sparse_categorical_accuracy: 0.9718 - val_loss: 0.0488 - val_sparse_categorical_accuracy: 0.9717\nEpoch 20/20\n67869/67869 [==============================] - 7s 107us/sample - loss: 0.0512 - sparse_categorical_accuracy: 0.9718 - val_loss: 0.0495 - val_sparse_categorical_accuracy: 0.9716\n"
                },
                {
                    "data": {
                        "text/plain": "<tensorflow.python.keras.callbacks.History at 0x7fc3300febe0>"
                    },
                    "execution_count": 22,
                    "metadata": {},
                    "output_type": "execute_result"
                }
            ],
            "source": "model.fit(x=X_train,y=y_train,epochs = 20,validation_data=(X_test,y_test))"
        },
        {
            "cell_type": "markdown",
            "metadata": {},
            "source": "### Model Evaluation"
        },
        {
            "cell_type": "code",
            "execution_count": 23,
            "metadata": {},
            "outputs": [
                {
                    "name": "stdout",
                    "output_type": "stream",
                    "text": "accuracy =  0.9717691540718079\nval_accuracy =  0.9716033935546875\n"
                },
                {
                    "data": {
                        "image/png": "[encoded data removed]",
                        "text/plain": "<Figure size 432x288 with 1 Axes>"
                    },
                    "metadata": {
                        "needs_background": "light"
                    },
                    "output_type": "display_data"
                }
            ],
            "source": "losses_2 = pd.DataFrame(model.history.history)\nlosses_2[['loss','val_loss']].plot()\nplt.xlabel('epochs')\nplt.ylabel('loss')\nprint(\"accuracy = \",losses_2[['sparse_categorical_accuracy']].iloc[-1][0])\nprint(\"val_accuracy = \",losses_2[['val_sparse_categorical_accuracy']].iloc[-1][0])"
        },
        {
            "cell_type": "code",
            "execution_count": 24,
            "metadata": {},
            "outputs": [],
            "source": "predictions = model.predict_classes(X_test)"
        },
        {
            "cell_type": "code",
            "execution_count": 25,
            "metadata": {},
            "outputs": [
                {
                    "name": "stdout",
                    "output_type": "stream",
                    "text": "              precision    recall  f1-score   support\n\n         0.0       0.95      0.96      0.96      9282\n         1.0       1.00      1.00      1.00      8246\n         2.0       0.94      0.92      0.93      6328\n         3.0       1.00      1.00      1.00      5232\n\n   micro avg       0.97      0.97      0.97     29088\n   macro avg       0.97      0.97      0.97     29088\nweighted avg       0.97      0.97      0.97     29088\n\n"
                }
            ],
            "source": "print(classification_report(y_test,predictions))"
        },
        {
            "cell_type": "code",
            "execution_count": 26,
            "metadata": {},
            "outputs": [
                {
                    "data": {
                        "text/plain": "array([[8941,    0,  341,    0],\n       [   0, 8246,    0,    0],\n       [ 482,    0, 5843,    3],\n       [   0,    0,    0, 5232]])"
                    },
                    "execution_count": 26,
                    "metadata": {},
                    "output_type": "execute_result"
                }
            ],
            "source": "confusion_matrix(y_test,predictions)"
        },
        {
            "cell_type": "markdown",
            "metadata": {},
            "source": "## Decisioin Tree Models"
        },
        {
            "cell_type": "code",
            "execution_count": 27,
            "metadata": {},
            "outputs": [],
            "source": "assembler = VectorAssembler(inputCols=['Fine Amount',\n                                       'Penalty Amount',\n                                       'Reduction Amount',\n                                       'Payment Amount',\n                                       'Amount Due',\n                                       'Precinct', 'Year',\n                                       'Month',\n                                       'Day',\n                                       'State_index',\n                                       'License_Type_index',\n                                       'County_index',\n                                       'Issuing_Agency_index'],outputCol='features')"
        },
        {
            "cell_type": "code",
            "execution_count": 28,
            "metadata": {},
            "outputs": [],
            "source": "df = spark.createDataFrame(df_data_5)"
        },
        {
            "cell_type": "code",
            "execution_count": 29,
            "metadata": {},
            "outputs": [],
            "source": "df_assembler_out = assembler.transform(df)"
        },
        {
            "cell_type": "code",
            "execution_count": 30,
            "metadata": {},
            "outputs": [
                {
                    "name": "stdout",
                    "output_type": "stream",
                    "text": "root\n |-- Unnamed: 0: long (nullable = true)\n |-- Fine Amount: double (nullable = true)\n |-- Penalty Amount: double (nullable = true)\n |-- Reduction Amount: double (nullable = true)\n |-- Payment Amount: double (nullable = true)\n |-- Amount Due: double (nullable = true)\n |-- Precinct: long (nullable = true)\n |-- Year: long (nullable = true)\n |-- Month: long (nullable = true)\n |-- Day: long (nullable = true)\n |-- State_index: double (nullable = true)\n |-- License_Type_index: double (nullable = true)\n |-- Violation_index: double (nullable = true)\n |-- County_index: double (nullable = true)\n |-- Issuing_Agency_index: double (nullable = true)\n |-- features: vector (nullable = true)\n\n"
                }
            ],
            "source": "df_assembler_out.printSchema()"
        },
        {
            "cell_type": "code",
            "execution_count": 31,
            "metadata": {},
            "outputs": [],
            "source": "df_final = df_assembler_out.select('features','Violation_index')"
        },
        {
            "cell_type": "code",
            "execution_count": 32,
            "metadata": {},
            "outputs": [
                {
                    "name": "stdout",
                    "output_type": "stream",
                    "text": "+--------------------+---------------+\n|            features|Violation_index|\n+--------------------+---------------+\n|[35.0,10.0,0.0,0....|            2.0|\n|[35.0,60.0,0.0,0....|            2.0|\n|[35.0,60.0,0.0,0....|            2.0|\n|[35.0,10.0,0.0,0....|            2.0|\n|[35.0,10.0,0.0,0....|            2.0|\n+--------------------+---------------+\nonly showing top 5 rows\n\n"
                }
            ],
            "source": "df_final.show(5)"
        },
        {
            "cell_type": "code",
            "execution_count": 33,
            "metadata": {},
            "outputs": [],
            "source": "train_data,test_data = df_final.randomSplit([0.7,0.3])"
        },
        {
            "cell_type": "code",
            "execution_count": 34,
            "metadata": {},
            "outputs": [],
            "source": "from pyspark.ml.classification import (DecisionTreeClassifier, RandomForestClassifier)"
        },
        {
            "cell_type": "code",
            "execution_count": 35,
            "metadata": {},
            "outputs": [],
            "source": "dtc = DecisionTreeClassifier(labelCol='Violation_index', featuresCol='features')\nrfc = RandomForestClassifier(labelCol='Violation_index', featuresCol='features')"
        },
        {
            "cell_type": "code",
            "execution_count": 36,
            "metadata": {},
            "outputs": [],
            "source": "dtc_model = dtc.fit(train_data)\nrfc_model = rfc.fit(train_data)"
        },
        {
            "cell_type": "code",
            "execution_count": 37,
            "metadata": {},
            "outputs": [],
            "source": "dtc_preds = dtc_model.transform(test_data)\nrfc_preds = rfc_model.transform(test_data)"
        },
        {
            "cell_type": "code",
            "execution_count": 38,
            "metadata": {},
            "outputs": [],
            "source": "df_dtc = dtc_preds.toPandas()\ndf_rfc = rfc_preds.toPandas()"
        },
        {
            "cell_type": "code",
            "execution_count": 39,
            "metadata": {},
            "outputs": [
                {
                    "data": {
                        "text/html": "<div>\n<style scoped>\n    .dataframe tbody tr th:only-of-type {\n        vertical-align: middle;\n    }\n\n    .dataframe tbody tr th {\n        vertical-align: top;\n    }\n\n    .dataframe thead th {\n        text-align: right;\n    }\n</style>\n<table border=\"1\" class=\"dataframe\">\n  <thead>\n    <tr style=\"text-align: right;\">\n      <th></th>\n      <th>features</th>\n      <th>Violation_index</th>\n      <th>rawPrediction</th>\n      <th>probability</th>\n      <th>prediction</th>\n    </tr>\n  </thead>\n  <tbody>\n    <tr>\n      <th>0</th>\n      <td>(35.0, 10.0, 45.0, 0.0, 0.0, 61.0, 2016.0, 5.0...</td>\n      <td>2.0</td>\n      <td>[0.0, 0.0, 11544.0, 0.0]</td>\n      <td>[0.0, 0.0, 1.0, 0.0]</td>\n      <td>2.0</td>\n    </tr>\n    <tr>\n      <th>1</th>\n      <td>(35.0, 10.0, 45.0, 0.0, 0.0, 61.0, 2016.0, 5.0...</td>\n      <td>2.0</td>\n      <td>[0.0, 0.0, 11544.0, 0.0]</td>\n      <td>[0.0, 0.0, 1.0, 0.0]</td>\n      <td>2.0</td>\n    </tr>\n    <tr>\n      <th>2</th>\n      <td>(35.0, 10.0, 45.0, 0.0, 0.0, 61.0, 2017.0, 3.0...</td>\n      <td>2.0</td>\n      <td>[0.0, 0.0, 11544.0, 0.0]</td>\n      <td>[0.0, 0.0, 1.0, 0.0]</td>\n      <td>2.0</td>\n    </tr>\n    <tr>\n      <th>3</th>\n      <td>(35.0, 10.0, 45.0, 0.0, 0.0, 61.0, 2017.0, 8.0...</td>\n      <td>2.0</td>\n      <td>[0.0, 0.0, 11544.0, 0.0]</td>\n      <td>[0.0, 0.0, 1.0, 0.0]</td>\n      <td>2.0</td>\n    </tr>\n    <tr>\n      <th>4</th>\n      <td>(35.0, 10.0, 45.0, 0.0, 0.0, 66.0, 2017.0, 7.0...</td>\n      <td>2.0</td>\n      <td>[0.0, 0.0, 11544.0, 0.0]</td>\n      <td>[0.0, 0.0, 1.0, 0.0]</td>\n      <td>2.0</td>\n    </tr>\n  </tbody>\n</table>\n</div>",
                        "text/plain": "                                            features  Violation_index  \\\n0  (35.0, 10.0, 45.0, 0.0, 0.0, 61.0, 2016.0, 5.0...              2.0   \n1  (35.0, 10.0, 45.0, 0.0, 0.0, 61.0, 2016.0, 5.0...              2.0   \n2  (35.0, 10.0, 45.0, 0.0, 0.0, 61.0, 2017.0, 3.0...              2.0   \n3  (35.0, 10.0, 45.0, 0.0, 0.0, 61.0, 2017.0, 8.0...              2.0   \n4  (35.0, 10.0, 45.0, 0.0, 0.0, 66.0, 2017.0, 7.0...              2.0   \n\n              rawPrediction           probability  prediction  \n0  [0.0, 0.0, 11544.0, 0.0]  [0.0, 0.0, 1.0, 0.0]         2.0  \n1  [0.0, 0.0, 11544.0, 0.0]  [0.0, 0.0, 1.0, 0.0]         2.0  \n2  [0.0, 0.0, 11544.0, 0.0]  [0.0, 0.0, 1.0, 0.0]         2.0  \n3  [0.0, 0.0, 11544.0, 0.0]  [0.0, 0.0, 1.0, 0.0]         2.0  \n4  [0.0, 0.0, 11544.0, 0.0]  [0.0, 0.0, 1.0, 0.0]         2.0  "
                    },
                    "execution_count": 39,
                    "metadata": {},
                    "output_type": "execute_result"
                }
            ],
            "source": "df_dtc.head()"
        },
        {
            "cell_type": "markdown",
            "metadata": {},
            "source": "## Decision Tree Classifier Evaluation"
        },
        {
            "cell_type": "code",
            "execution_count": 40,
            "metadata": {},
            "outputs": [
                {
                    "name": "stdout",
                    "output_type": "stream",
                    "text": "              precision    recall  f1-score   support\n\n         0.0       0.91      0.99      0.95      9107\n         1.0       1.00      1.00      1.00      8124\n         2.0       0.98      0.86      0.92      6422\n         3.0       1.00      1.00      1.00      5376\n\n   micro avg       0.97      0.97      0.97     29029\n   macro avg       0.97      0.96      0.97     29029\nweighted avg       0.97      0.97      0.97     29029\n\n"
                }
            ],
            "source": "print(classification_report(df_dtc['Violation_index'].values, df_dtc['prediction'].values))"
        },
        {
            "cell_type": "code",
            "execution_count": 41,
            "metadata": {},
            "outputs": [
                {
                    "data": {
                        "text/plain": "array([[9009,    0,   96,    2],\n       [   0, 8124,    0,    0],\n       [ 885,    0, 5535,    2],\n       [   0,    0,    0, 5376]])"
                    },
                    "execution_count": 41,
                    "metadata": {},
                    "output_type": "execute_result"
                }
            ],
            "source": "confusion_matrix(df_dtc['Violation_index'].values, df_dtc['prediction'].values)"
        },
        {
            "cell_type": "markdown",
            "metadata": {},
            "source": "## Random Forest Classifier Evaluation"
        },
        {
            "cell_type": "code",
            "execution_count": 42,
            "metadata": {},
            "outputs": [
                {
                    "name": "stdout",
                    "output_type": "stream",
                    "text": "              precision    recall  f1-score   support\n\n         0.0       0.91      0.99      0.95      9107\n         1.0       1.00      1.00      1.00      8124\n         2.0       0.98      0.86      0.92      6422\n         3.0       1.00      1.00      1.00      5376\n\n   micro avg       0.96      0.96      0.96     29029\n   macro avg       0.97      0.96      0.97     29029\nweighted avg       0.97      0.96      0.96     29029\n\n"
                }
            ],
            "source": "print(classification_report(df_rfc['Violation_index'].values, df_rfc['prediction'].values))"
        },
        {
            "cell_type": "code",
            "execution_count": 43,
            "metadata": {},
            "outputs": [
                {
                    "data": {
                        "text/plain": "array([[8995,    0,  109,    3],\n       [   0, 8124,    0,    0],\n       [ 900,    0, 5517,    5],\n       [   2,    0,    0, 5374]])"
                    },
                    "execution_count": 43,
                    "metadata": {},
                    "output_type": "execute_result"
                }
            ],
            "source": "confusion_matrix(df_rfc['Violation_index'].values, df_rfc['prediction'].values)"
        }
    ],
    "metadata": {
        "kernelspec": {
            "display_name": "Python 3.6 with Spark",
            "language": "python3",
            "name": "python36"
        },
        "language_info": {
            "codemirror_mode": {
                "name": "ipython",
                "version": 3
            },
            "file_extension": ".py",
            "mimetype": "text/x-python",
            "name": "python",
            "nbconvert_exporter": "python",
            "pygments_lexer": "ipython3",
            "version": "3.6.8"
        }
    },
    "nbformat": 4,
    "nbformat_minor": 2
}