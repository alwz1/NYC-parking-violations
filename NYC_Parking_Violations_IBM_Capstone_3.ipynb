{
 "cells": [
  {
   "cell_type": "markdown",
   "metadata": {},
   "source": [
    "# NYC_Parking_Violations_IBM_Capstone\n",
    "## Notebook 3\n",
    "## Models to predict top four Violation Categories"
   ]
  },
  {
   "cell_type": "code",
   "execution_count": 1,
   "metadata": {},
   "outputs": [],
   "source": [
    "import os\n",
    "os.environ[\"PYSPARK_PYTHON\"] = \"python3\"\n",
    "os.environ[\"PYSPARK_DRIVER_PYTHON\"] = \"python3\"\n",
    "os.environ[\"JAVA_HOME\"] = \"/Library/java/JavaVirtualMachines/adoptopenjdk-8.jdk/contents/Home/\""
   ]
  },
  {
   "cell_type": "code",
   "execution_count": 2,
   "metadata": {},
   "outputs": [],
   "source": [
    "import findspark\n",
    "findspark.init()"
   ]
  },
  {
   "cell_type": "code",
   "execution_count": 3,
   "metadata": {},
   "outputs": [],
   "source": [
    "import numpy as np\n",
    "import pandas as pd\n",
    "import matplotlib.pyplot as plt\n",
    "\n",
    "from tensorflow.keras.models import Sequential\n",
    "from tensorflow.keras.layers import Dense\n",
    "\n",
    "from pyspark.ml import Pipeline\n",
    "from pyspark.ml.feature import (\n",
    "    StringIndexer, MinMaxScaler, VectorAssembler)\n",
    "from pyspark.ml.classification import (\n",
    "    DecisionTreeClassifier, RandomForestClassifier)\n",
    "\n",
    "from sklearn.preprocessing import MinMaxScaler as SkMinMaxScaler\n",
    "from sklearn.model_selection import train_test_split\n",
    "from sklearn.metrics import classification_report, confusion_matrix"
   ]
  },
  {
   "cell_type": "code",
   "execution_count": 4,
   "metadata": {},
   "outputs": [],
   "source": [
    "from pyspark.sql import SparkSession"
   ]
  },
  {
   "cell_type": "code",
   "execution_count": 5,
   "metadata": {},
   "outputs": [],
   "source": [
    "spark = SparkSession.builder.appName('NYC_Parking').getOrCreate()"
   ]
  },
  {
   "cell_type": "code",
   "execution_count": 6,
   "metadata": {},
   "outputs": [],
   "source": [
    "df = spark.read.csv('nyc_sampled.csv',inferSchema=True,header=True)"
   ]
  },
  {
   "cell_type": "code",
   "execution_count": 7,
   "metadata": {},
   "outputs": [
    {
     "name": "stdout",
     "output_type": "stream",
     "text": [
      "root\n",
      " |-- State: string (nullable = true)\n",
      " |-- License_Type: string (nullable = true)\n",
      " |-- Violation: string (nullable = true)\n",
      " |-- Fine Amount: double (nullable = true)\n",
      " |-- Penalty Amount: double (nullable = true)\n",
      " |-- Reduction Amount: double (nullable = true)\n",
      " |-- Payment Amount: double (nullable = true)\n",
      " |-- Amount Due: double (nullable = true)\n",
      " |-- Precinct: integer (nullable = true)\n",
      " |-- County: string (nullable = true)\n",
      " |-- Issuing_Agency: string (nullable = true)\n",
      " |-- Year: integer (nullable = true)\n",
      " |-- Month: integer (nullable = true)\n",
      " |-- Day: integer (nullable = true)\n",
      "\n"
     ]
    }
   ],
   "source": [
    "df.printSchema()"
   ]
  },
  {
   "cell_type": "code",
   "execution_count": 8,
   "metadata": {},
   "outputs": [],
   "source": [
    "# Index categorical columns\n",
    "cat_columns = ['State',\n",
    "               'License_Type',\n",
    "               'Violation',\n",
    "               'County',\n",
    "               'Issuing_Agency']\n",
    "\n",
    "indexers = [StringIndexer(inputCol=column, outputCol=column+\"_index\")\n",
    "            for column in cat_columns]\n",
    "\n",
    "pipeline = Pipeline(stages=indexers)\n",
    "\n",
    "df_indexed = pipeline.fit(df).transform(df).drop(*cat_columns)"
   ]
  },
  {
   "cell_type": "code",
   "execution_count": 9,
   "metadata": {},
   "outputs": [],
   "source": [
    "df_pd = df_indexed.toPandas()"
   ]
  },
  {
   "cell_type": "code",
   "execution_count": 10,
   "metadata": {},
   "outputs": [],
   "source": [
    "X = df_pd.drop('Violation_index', axis=1).values\n",
    "y = df_pd[['Violation_index']].values"
   ]
  },
  {
   "cell_type": "code",
   "execution_count": 11,
   "metadata": {},
   "outputs": [],
   "source": [
    "X_train, X_test, y_train, y_test = train_test_split(\n",
    "    X, y, test_size=0.2, random_state=42)"
   ]
  },
  {
   "cell_type": "code",
   "execution_count": 12,
   "metadata": {},
   "outputs": [
    {
     "data": {
      "text/plain": [
       "(778248, 13)"
      ]
     },
     "execution_count": 12,
     "metadata": {},
     "output_type": "execute_result"
    }
   ],
   "source": [
    "X_train.shape"
   ]
  },
  {
   "cell_type": "code",
   "execution_count": 13,
   "metadata": {},
   "outputs": [
    {
     "data": {
      "text/plain": [
       "(194563, 13)"
      ]
     },
     "execution_count": 13,
     "metadata": {},
     "output_type": "execute_result"
    }
   ],
   "source": [
    "X_test.shape"
   ]
  },
  {
   "cell_type": "markdown",
   "metadata": {},
   "source": [
    "## Deep Learning model"
   ]
  },
  {
   "cell_type": "code",
   "execution_count": 14,
   "metadata": {},
   "outputs": [],
   "source": [
    "scaler = SkMinMaxScaler()"
   ]
  },
  {
   "cell_type": "code",
   "execution_count": 15,
   "metadata": {},
   "outputs": [
    {
     "data": {
      "text/plain": [
       "MinMaxScaler(copy=True, feature_range=(0, 1))"
      ]
     },
     "execution_count": 15,
     "metadata": {},
     "output_type": "execute_result"
    }
   ],
   "source": [
    "scaler.fit(X_train)"
   ]
  },
  {
   "cell_type": "code",
   "execution_count": 16,
   "metadata": {},
   "outputs": [],
   "source": [
    "X_train = scaler.transform(X_train)\n",
    "X_test = scaler.transform(X_test)"
   ]
  },
  {
   "cell_type": "code",
   "execution_count": 17,
   "metadata": {},
   "outputs": [],
   "source": [
    "model = Sequential()\n",
    "\n",
    "model.add(Dense(13, activation='relu'))\n",
    "\n",
    "model.add(Dense(16, activation='relu'))\n",
    "\n",
    "model.add(Dense(16, activation='relu'))\n",
    "\n",
    "model.add(Dense(4, activation='softmax'))\n",
    "\n",
    "model.compile(loss='sparse_categorical_crossentropy',\n",
    "              optimizer='adam', metrics=['sparse_categorical_accuracy'])"
   ]
  },
  {
   "cell_type": "code",
   "execution_count": 18,
   "metadata": {},
   "outputs": [
    {
     "name": "stdout",
     "output_type": "stream",
     "text": [
      "Train on 778248 samples, validate on 194563 samples\n",
      "Epoch 1/20\n",
      "778248/778248 [==============================] - 44s 56us/sample - loss: 0.1021 - sparse_categorical_accuracy: 0.9528 - val_loss: 0.0513 - val_sparse_categorical_accuracy: 0.9721\n",
      "Epoch 2/20\n",
      "778248/778248 [==============================] - 43s 55us/sample - loss: 0.0508 - sparse_categorical_accuracy: 0.9714 - val_loss: 0.0493 - val_sparse_categorical_accuracy: 0.9719\n",
      "Epoch 3/20\n",
      "778248/778248 [==============================] - 43s 55us/sample - loss: 0.0487 - sparse_categorical_accuracy: 0.9717 - val_loss: 0.0478 - val_sparse_categorical_accuracy: 0.9721\n",
      "Epoch 4/20\n",
      "778248/778248 [==============================] - 47s 61us/sample - loss: 0.0478 - sparse_categorical_accuracy: 0.9720 - val_loss: 0.0471 - val_sparse_categorical_accuracy: 0.9725\n",
      "Epoch 5/20\n",
      "778248/778248 [==============================] - 47s 61us/sample - loss: 0.0471 - sparse_categorical_accuracy: 0.9721 - val_loss: 0.0464 - val_sparse_categorical_accuracy: 0.9728\n",
      "Epoch 6/20\n",
      "778248/778248 [==============================] - 48s 61us/sample - loss: 0.0463 - sparse_categorical_accuracy: 0.9722 - val_loss: 0.0458 - val_sparse_categorical_accuracy: 0.9722\n",
      "Epoch 7/20\n",
      "778248/778248 [==============================] - 47s 61us/sample - loss: 0.0454 - sparse_categorical_accuracy: 0.9726 - val_loss: 0.0451 - val_sparse_categorical_accuracy: 0.9713\n",
      "Epoch 8/20\n",
      "778248/778248 [==============================] - 47s 60us/sample - loss: 0.0449 - sparse_categorical_accuracy: 0.9727 - val_loss: 0.0442 - val_sparse_categorical_accuracy: 0.9728\n",
      "Epoch 9/20\n",
      "778248/778248 [==============================] - 48s 62us/sample - loss: 0.0446 - sparse_categorical_accuracy: 0.9729 - val_loss: 0.0437 - val_sparse_categorical_accuracy: 0.9730\n",
      "Epoch 10/20\n",
      "778248/778248 [==============================] - 48s 62us/sample - loss: 0.0443 - sparse_categorical_accuracy: 0.9731 - val_loss: 0.0436 - val_sparse_categorical_accuracy: 0.9735\n",
      "Epoch 11/20\n",
      "778248/778248 [==============================] - 49s 63us/sample - loss: 0.0441 - sparse_categorical_accuracy: 0.9732 - val_loss: 0.0440 - val_sparse_categorical_accuracy: 0.9718\n",
      "Epoch 12/20\n",
      "778248/778248 [==============================] - 46s 59us/sample - loss: 0.0439 - sparse_categorical_accuracy: 0.9732 - val_loss: 0.0442 - val_sparse_categorical_accuracy: 0.9726\n",
      "Epoch 13/20\n",
      "778248/778248 [==============================] - 48s 61us/sample - loss: 0.0437 - sparse_categorical_accuracy: 0.9732 - val_loss: 0.0434 - val_sparse_categorical_accuracy: 0.9735\n",
      "Epoch 14/20\n",
      "778248/778248 [==============================] - 47s 60us/sample - loss: 0.0435 - sparse_categorical_accuracy: 0.9734 - val_loss: 0.0433 - val_sparse_categorical_accuracy: 0.9732\n",
      "Epoch 15/20\n",
      "778248/778248 [==============================] - 49s 63us/sample - loss: 0.0434 - sparse_categorical_accuracy: 0.9734 - val_loss: 0.0449 - val_sparse_categorical_accuracy: 0.9727\n",
      "Epoch 16/20\n",
      "778248/778248 [==============================] - 48s 62us/sample - loss: 0.0433 - sparse_categorical_accuracy: 0.9734 - val_loss: 0.0430 - val_sparse_categorical_accuracy: 0.9740\n",
      "Epoch 17/20\n",
      "778248/778248 [==============================] - 48s 62us/sample - loss: 0.0433 - sparse_categorical_accuracy: 0.9735 - val_loss: 0.0439 - val_sparse_categorical_accuracy: 0.9731\n",
      "Epoch 18/20\n",
      "778248/778248 [==============================] - 48s 61us/sample - loss: 0.0432 - sparse_categorical_accuracy: 0.9737 - val_loss: 0.0433 - val_sparse_categorical_accuracy: 0.9732\n",
      "Epoch 19/20\n",
      "778248/778248 [==============================] - 48s 62us/sample - loss: 0.0432 - sparse_categorical_accuracy: 0.9734 - val_loss: 0.0441 - val_sparse_categorical_accuracy: 0.9731\n",
      "Epoch 20/20\n",
      "778248/778248 [==============================] - 47s 60us/sample - loss: 0.0432 - sparse_categorical_accuracy: 0.9736 - val_loss: 0.0432 - val_sparse_categorical_accuracy: 0.9730\n"
     ]
    },
    {
     "data": {
      "text/plain": [
       "<tensorflow.python.keras.callbacks.History at 0x7f984800c810>"
      ]
     },
     "execution_count": 18,
     "metadata": {},
     "output_type": "execute_result"
    }
   ],
   "source": [
    "model.fit(x=X_train,y=y_train,epochs = 20,validation_data=(X_test,y_test))"
   ]
  },
  {
   "cell_type": "markdown",
   "metadata": {},
   "source": [
    "### Model Evaluation"
   ]
  },
  {
   "cell_type": "code",
   "execution_count": 19,
   "metadata": {},
   "outputs": [
    {
     "name": "stdout",
     "output_type": "stream",
     "text": [
      "accuracy =  0.9735585451126099\n",
      "val_accuracy =  0.9729753136634827\n"
     ]
    },
    {
     "data": {
      "image/png": "[encoded data removed]",
      "text/plain": [
       "<Figure size 432x288 with 1 Axes>"
      ]
     },
     "metadata": {
      "needs_background": "light"
     },
     "output_type": "display_data"
    }
   ],
   "source": [
    "losses_2 = pd.DataFrame(model.history.history)\n",
    "losses_2[['loss', 'val_loss']].plot()\n",
    "plt.xlabel('epochs')\n",
    "plt.ylabel('loss')\n",
    "print(\"accuracy = \", losses_2[[\n",
    "      'sparse_categorical_accuracy']].iloc[-1][0])\n",
    "print(\"val_accuracy = \", losses_2[[\n",
    "      'val_sparse_categorical_accuracy']].iloc[-1][0])"
   ]
  },
  {
   "cell_type": "code",
   "execution_count": 20,
   "metadata": {},
   "outputs": [],
   "source": [
    "predictions = model.predict_classes(X_test)"
   ]
  },
  {
   "cell_type": "code",
   "execution_count": 21,
   "metadata": {},
   "outputs": [
    {
     "name": "stdout",
     "output_type": "stream",
     "text": [
      "              precision    recall  f1-score   support\n",
      "\n",
      "         0.0       0.94      0.97      0.96     60953\n",
      "         1.0       1.00      1.00      1.00     55167\n",
      "         2.0       0.96      0.92      0.94     42863\n",
      "         3.0       1.00      1.00      1.00     35580\n",
      "\n",
      "    accuracy                           0.97    194563\n",
      "   macro avg       0.98      0.97      0.97    194563\n",
      "weighted avg       0.97      0.97      0.97    194563\n",
      "\n"
     ]
    }
   ],
   "source": [
    "print(classification_report(y_test,predictions))"
   ]
  },
  {
   "cell_type": "markdown",
   "metadata": {},
   "source": [
    "## Decision Tree and Random Forest Models"
   ]
  },
  {
   "cell_type": "code",
   "execution_count": 22,
   "metadata": {},
   "outputs": [],
   "source": [
    "# Prepare stages for ML Pipeline\n",
    "stages = []\n",
    "\n",
    "# Transform columns into a single vector column.\n",
    "vect_assembler_inputs = df_indexed.drop('Violation_index').columns\n",
    "assembler = VectorAssembler(\n",
    "    inputCols=vect_assembler_inputs, outputCol=\"features\")\n",
    "\n",
    "stages += [assembler]\n",
    "\n",
    "# Rescale  each feature into the range from 0 to 1.\n",
    "scaler = MinMaxScaler(inputCol=\"features\", outputCol=\"scaled_features\")\n",
    "\n",
    "stages += [scaler]\n",
    "\n",
    "\n",
    "# Instantiate classifiers\n",
    "dtc = DecisionTreeClassifier(\n",
    "    labelCol='Violation_index', featuresCol='scaled_features')\n",
    "rfc = RandomForestClassifier(\n",
    "    labelCol='Violation_index', featuresCol='scaled_features')\n",
    "\n",
    "# Set stages for classifiers\n",
    "stages_dtc = stages + [dtc]\n",
    "stages_rfc = stages + [rfc]"
   ]
  },
  {
   "cell_type": "code",
   "execution_count": 23,
   "metadata": {},
   "outputs": [],
   "source": [
    "# Set the stages for ML Pipeline\n",
    "pipeline_dtc = Pipeline().setStages(stages_dtc)\n",
    "pipeline_rfc = Pipeline().setStages(stages_rfc)"
   ]
  },
  {
   "cell_type": "code",
   "execution_count": 24,
   "metadata": {},
   "outputs": [],
   "source": [
    "train, test = df_indexed.randomSplit([0.8, 0.2], seed=42)"
   ]
  },
  {
   "cell_type": "code",
   "execution_count": 25,
   "metadata": {},
   "outputs": [],
   "source": [
    "dtc_model = pipeline_dtc.fit(train)\n",
    "rfc_model = pipeline_rfc.fit(train)"
   ]
  },
  {
   "cell_type": "code",
   "execution_count": 26,
   "metadata": {},
   "outputs": [],
   "source": [
    "dtc_preds = dtc_model.transform(test)\n",
    "rfc_preds = rfc_model.transform(test)"
   ]
  },
  {
   "cell_type": "code",
   "execution_count": 27,
   "metadata": {},
   "outputs": [],
   "source": [
    "df_dtc = dtc_preds.toPandas()\n",
    "df_rfc = rfc_preds.toPandas()"
   ]
  },
  {
   "cell_type": "markdown",
   "metadata": {},
   "source": [
    "### Model Evaluation\n",
    "#### Decision Tree"
   ]
  },
  {
   "cell_type": "code",
   "execution_count": 28,
   "metadata": {},
   "outputs": [
    {
     "name": "stdout",
     "output_type": "stream",
     "text": [
      "              precision    recall  f1-score   support\n",
      "\n",
      "         0.0       1.00      0.90      0.95     60892\n",
      "         1.0       1.00      1.00      1.00     54831\n",
      "         2.0       0.87      1.00      0.93     43099\n",
      "         3.0       1.00      1.00      1.00     35555\n",
      "\n",
      "    accuracy                           0.97    194377\n",
      "   macro avg       0.97      0.97      0.97    194377\n",
      "weighted avg       0.97      0.97      0.97    194377\n",
      "\n"
     ]
    }
   ],
   "source": [
    "print(classification_report(\n",
    "    df_dtc['Violation_index'].values, df_dtc['prediction'].values))"
   ]
  },
  {
   "cell_type": "markdown",
   "metadata": {},
   "source": [
    "#### Random Forest"
   ]
  },
  {
   "cell_type": "code",
   "execution_count": 29,
   "metadata": {},
   "outputs": [
    {
     "name": "stdout",
     "output_type": "stream",
     "text": [
      "              precision    recall  f1-score   support\n",
      "\n",
      "         0.0       0.91      0.98      0.94     60892\n",
      "         1.0       1.00      1.00      1.00     54831\n",
      "         2.0       0.97      0.87      0.91     43099\n",
      "         3.0       1.00      1.00      1.00     35555\n",
      "\n",
      "    accuracy                           0.96    194377\n",
      "   macro avg       0.97      0.96      0.96    194377\n",
      "weighted avg       0.97      0.96      0.96    194377\n",
      "\n"
     ]
    }
   ],
   "source": [
    "print(classification_report(\n",
    "    df_rfc['Violation_index'].values, df_rfc['prediction'].values))"
   ]
  },
  {
   "cell_type": "code",
   "execution_count": null,
   "metadata": {},
   "outputs": [],
   "source": []
  }
 ],
 "metadata": {
  "kernelspec": {
   "display_name": "Python 3",
   "language": "python",
   "name": "python3"
  },
  "language_info": {
   "codemirror_mode": {
    "name": "ipython",
    "version": 3
   },
   "file_extension": ".py",
   "mimetype": "text/x-python",
   "name": "python",
   "nbconvert_exporter": "python",
   "pygments_lexer": "ipython3",
   "version": "3.7.6"
  }
 },
 "nbformat": 4,
 "nbformat_minor": 4
}
