{
    "cells": [
        {
            "cell_type": "code",
            "execution_count": 1,
            "metadata": {},
            "outputs": [
                {
                    "name": "stdout",
                    "output_type": "stream",
                    "text": "Waiting for a Spark session to start...\nSpark Initialization Done! ApplicationId = app-20200418222308-0000\nKERNEL_ID = e68ac198-67e6-4ebb-b9f9-7425d355a5e0\n"
                }
            ],
            "source": "# The code was removed by Watson Studio for sharing."
        },
        {
            "cell_type": "markdown",
            "metadata": {},
            "source": "## NYC_Parking_Violations_IBM_Capstone\n### Notebook 2\n### Extract Transform Load (ETL)"
        },
        {
            "cell_type": "code",
            "execution_count": 2,
            "metadata": {},
            "outputs": [],
            "source": "import numpy as np\nimport pandas as pd\nfrom pyspark.sql.functions import (dayofmonth, dayofyear, month, year, \n                                   weekofyear, datediff, to_date, col)"
        },
        {
            "cell_type": "code",
            "execution_count": 3,
            "metadata": {},
            "outputs": [
                {
                    "data": {
                        "text/plain": "[Row(Plate='126798R', State='NJ', License Type='PAS', Summons Number='8604887570', Issue Date='05/17/2018', Violation Time='04:12P', Violation='FIRE HYDRANT', Judgment Entry Date=None, Fine Amount='115.00', Penalty Amount='10.00', Interest Amount='0.00', Reduction Amount='0.00', Payment Amount='0.00', Amount Due='125.00', Precinct='115', County='Q', Issuing Agency='TRAFFIC', Violation Status=None, Summons Image='View Summons (http://nycserv.nyc.gov/NYCServWeb/ShowImage?searchID=VDBSWmQwNUVaelJPZWxVelRVRTlQUT09&locationName=_____________________)'),\n Row(Plate='HJZ2125', State='PA', License Type='PAS', Summons Number='8604887738', Issue Date='05/22/2018', Violation Time='02:44P', Violation='NO PARKING-DAY/TIME LIMITS', Judgment Entry Date=None, Fine Amount='60.00', Penalty Amount='10.00', Interest Amount='0.00', Reduction Amount='0.00', Payment Amount='0.00', Amount Due='70.00', Precinct='109', County='Q', Issuing Agency='TRAFFIC', Violation Status=None, Summons Image='View Summons (http://nycserv.nyc.gov/NYCServWeb/ShowImage?searchID=VDBSWmQwNUVaelJPZW1ONlQwRTlQUT09&locationName=_____________________)')]"
                    },
                    "execution_count": 3,
                    "metadata": {},
                    "output_type": "execute_result"
                }
            ],
            "source": "# The code was removed by Watson Studio for sharing."
        },
        {
            "cell_type": "code",
            "execution_count": 4,
            "metadata": {},
            "outputs": [],
            "source": "df = df_data_1"
        },
        {
            "cell_type": "code",
            "execution_count": 5,
            "metadata": {},
            "outputs": [
                {
                    "data": {
                        "text/plain": "['Plate',\n 'State',\n 'License Type',\n 'Summons Number',\n 'Issue Date',\n 'Violation Time',\n 'Violation',\n 'Judgment Entry Date',\n 'Fine Amount',\n 'Penalty Amount',\n 'Interest Amount',\n 'Reduction Amount',\n 'Payment Amount',\n 'Amount Due',\n 'Precinct',\n 'County',\n 'Issuing Agency',\n 'Violation Status',\n 'Summons Image']"
                    },
                    "execution_count": 5,
                    "metadata": {},
                    "output_type": "execute_result"
                }
            ],
            "source": "df.columns"
        },
        {
            "cell_type": "code",
            "execution_count": 6,
            "metadata": {},
            "outputs": [],
            "source": "# Dropping id columns, columns with many missing values, etc\ndf_1 = df.drop('Plate',\n 'Summons Number',\n 'Violation Time',\n 'Judgment Entry Date',\n 'Interest Amount',\n 'Violation Status',\n 'Summons Image').na.drop()"
        },
        {
            "cell_type": "code",
            "execution_count": 7,
            "metadata": {},
            "outputs": [],
            "source": "# Renaming a few columns to avoid issue with filtering\ndf_2 = df_1.withColumnRenamed('License Type','License_Type').\\\n                withColumnRenamed('Issuing Agency','Issuing_Agency')"
        },
        {
            "cell_type": "code",
            "execution_count": 8,
            "metadata": {},
            "outputs": [
                {
                    "data": {
                        "text/plain": "['State',\n 'License_Type',\n 'Issue Date',\n 'Violation',\n 'Fine Amount',\n 'Penalty Amount',\n 'Reduction Amount',\n 'Payment Amount',\n 'Amount Due',\n 'Precinct',\n 'County',\n 'Issuing_Agency']"
                    },
                    "execution_count": 8,
                    "metadata": {},
                    "output_type": "execute_result"
                }
            ],
            "source": "df_2.columns"
        },
        {
            "cell_type": "code",
            "execution_count": 9,
            "metadata": {},
            "outputs": [],
            "source": "# top 12 states\n# top 4  violation categories\n# top 10 counties\n# top 10 License types\n# top 5 Issusing agencies\n\ndf_3 = df_2.filter('State in (\"NY\", \"NJ\", \"PA\", \"FL\", \"CT\", \"IN\", \"MA\", \"VA\", \"NC\", \"MD\",\"TX\",\"GA\")')\\\n           .filter('Violation in (\"NO PARKING-STREET CLEANING\", \\\n                   \"PHTO SCHOOL ZN SPEED VIOLATION\", \\\n                   \"FAIL TO DSPLY MUNI METER RECPT\", \\\n                   \"NO STANDING-DAY/TIME LIMITS\")') \\\n          .filter('County in (\"NY\", \"K\", \"Q\", \"BX\", \"BK\", \"QN\", \"ST\", \"R\", \"MN\", \"QUEEN\") ')\\\n          .filter('License_Type in (\"PAS\", \"COM\", \"OMT\", \"OMS\", \"SRF\", \"999\",\"APP\",\"IRP\",\"MOT\",\"TRC\") ')\\\n          .filter('Issuing_Agency in (\"TRAFFIC\", \"DEPARTMENT OF TRANSPORTATION\", \\\n                                       \"DEPARTMENT OF SANITATION\", \"POLICE DEPARTMENT\",\\\n                                       \"OTHER/UNKNOWN AGENCIES\")')"
        },
        {
            "cell_type": "code",
            "execution_count": 10,
            "metadata": {},
            "outputs": [],
            "source": "df_4 = df_3.sample(True,0.005)"
        },
        {
            "cell_type": "markdown",
            "metadata": {},
            "source": "## Feature Engineering / Data Cleansing"
        },
        {
            "cell_type": "markdown",
            "metadata": {},
            "source": "## Transforming date entries"
        },
        {
            "cell_type": "code",
            "execution_count": 11,
            "metadata": {},
            "outputs": [],
            "source": "# Convert string dates to date_time format\ndf_5 = df_4.withColumn(\"Issue Date\",to_date(\"Issue Date\",\"MM/dd/yyyy\"))"
        },
        {
            "cell_type": "code",
            "execution_count": 12,
            "metadata": {},
            "outputs": [],
            "source": "# Add feature columns: Year, Month, and Day\ndf_6 = df_5.withColumn('Year',year(df_5['Issue Date']))\\\n                    .withColumn('Month',month(df_5['Issue Date']))\\\n                         .withColumn('Day',dayofmonth(df_5['Issue Date']))"
        },
        {
            "cell_type": "code",
            "execution_count": 13,
            "metadata": {},
            "outputs": [
                {
                    "name": "stdout",
                    "output_type": "stream",
                    "text": "+----------+----+-----+---+\n|Issue Date|Year|Month|Day|\n+----------+----+-----+---+\n|2018-02-09|2018|    2|  9|\n|2018-06-01|2018|    6|  1|\n|2019-10-19|2019|   10| 19|\n|2018-07-06|2018|    7|  6|\n|2019-07-11|2019|    7| 11|\n+----------+----+-----+---+\nonly showing top 5 rows\n\n"
                }
            ],
            "source": "df_6.select('Issue Date','Year','Month','Day').show(5)"
        },
        {
            "cell_type": "code",
            "execution_count": 14,
            "metadata": {},
            "outputs": [],
            "source": "# Remove non-sensible years, months, and days\n# Drop Issue Date since Year, Monty, Day columns have been added already\ndf_7 = df_6[(df_6['Year']<=2020) & (df_6['Month']<= 12) & (df_6['Day']<= 31)].drop('Issue Date')"
        },
        {
            "cell_type": "code",
            "execution_count": 15,
            "metadata": {},
            "outputs": [
                {
                    "data": {
                        "text/plain": "['State',\n 'License_Type',\n 'Violation',\n 'Fine Amount',\n 'Penalty Amount',\n 'Reduction Amount',\n 'Payment Amount',\n 'Amount Due',\n 'Precinct',\n 'County',\n 'Issuing_Agency',\n 'Year',\n 'Month',\n 'Day']"
                    },
                    "execution_count": 15,
                    "metadata": {},
                    "output_type": "execute_result"
                }
            ],
            "source": "df_7.columns"
        },
        {
            "cell_type": "markdown",
            "metadata": {},
            "source": "## Indexing Strings"
        },
        {
            "cell_type": "code",
            "execution_count": 16,
            "metadata": {},
            "outputs": [],
            "source": "# indexing string columns\nfrom pyspark.ml import Pipeline\nfrom pyspark.ml.feature import StringIndexer\n\nindexers = [StringIndexer(inputCol=column, outputCol=column+\"_index\").fit(df_7) for column in ['State',\n 'License_Type',\n 'Violation',\n 'County',\n 'Issuing_Agency'] ]\n\npipeline = Pipeline(stages=indexers)\n\n# fit, transform\n# dropping non-indexed string columns\ndf_8 = pipeline.fit(df_7).transform(df_7).drop('State',\n 'License_Type',\n 'Violation',\n 'County',\n 'Issuing_Agency')"
        },
        {
            "cell_type": "code",
            "execution_count": 17,
            "metadata": {},
            "outputs": [],
            "source": "df_pd = df_8.toPandas()"
        },
        {
            "cell_type": "code",
            "execution_count": 18,
            "metadata": {},
            "outputs": [
                {
                    "data": {
                        "text/plain": "Fine Amount             False\nPenalty Amount          False\nReduction Amount        False\nPayment Amount          False\nAmount Due              False\nPrecinct                False\nYear                    False\nMonth                   False\nDay                     False\nState_index             False\nLicense_Type_index      False\nViolation_index         False\nCounty_index            False\nIssuing_Agency_index    False\ndtype: bool"
                    },
                    "execution_count": 18,
                    "metadata": {},
                    "output_type": "execute_result"
                }
            ],
            "source": "# Check if there are any null values left\ndf_pd.isnull().any()"
        },
        {
            "cell_type": "code",
            "execution_count": 19,
            "metadata": {},
            "outputs": [
                {
                    "data": {
                        "text/html": "<div>\n<style scoped>\n    .dataframe tbody tr th:only-of-type {\n        vertical-align: middle;\n    }\n\n    .dataframe tbody tr th {\n        vertical-align: top;\n    }\n\n    .dataframe thead th {\n        text-align: right;\n    }\n</style>\n<table border=\"1\" class=\"dataframe\">\n  <thead>\n    <tr style=\"text-align: right;\">\n      <th></th>\n      <th>Fine Amount</th>\n      <th>Penalty Amount</th>\n      <th>Reduction Amount</th>\n      <th>Payment Amount</th>\n      <th>Amount Due</th>\n      <th>Precinct</th>\n      <th>Year</th>\n      <th>Month</th>\n      <th>Day</th>\n      <th>State_index</th>\n      <th>License_Type_index</th>\n      <th>Violation_index</th>\n      <th>County_index</th>\n      <th>Issuing_Agency_index</th>\n    </tr>\n  </thead>\n  <tbody>\n    <tr>\n      <th>0</th>\n      <td>45.00</td>\n      <td>60.00</td>\n      <td>0.00</td>\n      <td>0.00</td>\n      <td>120.35</td>\n      <td>068</td>\n      <td>2018</td>\n      <td>2</td>\n      <td>9</td>\n      <td>0.0</td>\n      <td>1.0</td>\n      <td>0.0</td>\n      <td>0.0</td>\n      <td>0.0</td>\n    </tr>\n    <tr>\n      <th>1</th>\n      <td>45.00</td>\n      <td>10.00</td>\n      <td>0.00</td>\n      <td>0.00</td>\n      <td>55.00</td>\n      <td>048</td>\n      <td>2018</td>\n      <td>6</td>\n      <td>1</td>\n      <td>10.0</td>\n      <td>0.0</td>\n      <td>0.0</td>\n      <td>3.0</td>\n      <td>0.0</td>\n    </tr>\n    <tr>\n      <th>2</th>\n      <td>115.00</td>\n      <td>30.00</td>\n      <td>0.00</td>\n      <td>0.00</td>\n      <td>145.00</td>\n      <td>049</td>\n      <td>2019</td>\n      <td>10</td>\n      <td>19</td>\n      <td>2.0</td>\n      <td>0.0</td>\n      <td>3.0</td>\n      <td>3.0</td>\n      <td>0.0</td>\n    </tr>\n    <tr>\n      <th>3</th>\n      <td>45.00</td>\n      <td>10.00</td>\n      <td>0.00</td>\n      <td>0.00</td>\n      <td>55.00</td>\n      <td>048</td>\n      <td>2018</td>\n      <td>7</td>\n      <td>6</td>\n      <td>10.0</td>\n      <td>0.0</td>\n      <td>0.0</td>\n      <td>3.0</td>\n      <td>0.0</td>\n    </tr>\n    <tr>\n      <th>4</th>\n      <td>115.00</td>\n      <td>0.00</td>\n      <td>115.00</td>\n      <td>0.00</td>\n      <td>0.00</td>\n      <td>010</td>\n      <td>2019</td>\n      <td>7</td>\n      <td>11</td>\n      <td>9.0</td>\n      <td>0.0</td>\n      <td>3.0</td>\n      <td>1.0</td>\n      <td>0.0</td>\n    </tr>\n  </tbody>\n</table>\n</div>",
                        "text/plain": "  Fine Amount Penalty Amount Reduction Amount Payment Amount Amount Due  \\\n0       45.00          60.00             0.00           0.00     120.35   \n1       45.00          10.00             0.00           0.00      55.00   \n2      115.00          30.00             0.00           0.00     145.00   \n3       45.00          10.00             0.00           0.00      55.00   \n4      115.00           0.00           115.00           0.00       0.00   \n\n  Precinct  Year  Month  Day  State_index  License_Type_index  \\\n0      068  2018      2    9          0.0                 1.0   \n1      048  2018      6    1         10.0                 0.0   \n2      049  2019     10   19          2.0                 0.0   \n3      048  2018      7    6         10.0                 0.0   \n4      010  2019      7   11          9.0                 0.0   \n\n   Violation_index  County_index  Issuing_Agency_index  \n0              0.0           0.0                   0.0  \n1              0.0           3.0                   0.0  \n2              3.0           3.0                   0.0  \n3              0.0           3.0                   0.0  \n4              3.0           1.0                   0.0  "
                    },
                    "execution_count": 19,
                    "metadata": {},
                    "output_type": "execute_result"
                }
            ],
            "source": "df_pd.head()"
        },
        {
            "cell_type": "markdown",
            "metadata": {},
            "source": "### Save data for modeling"
        },
        {
            "cell_type": "code",
            "execution_count": 21,
            "metadata": {},
            "outputs": [],
            "source": "#project.save_data(\"sampled_data.csv\", df_pd.to_csv())"
        }
    ],
    "metadata": {
        "kernelspec": {
            "display_name": "Python 3.6 with Spark",
            "language": "python3",
            "name": "python36"
        },
        "language_info": {
            "codemirror_mode": {
                "name": "ipython",
                "version": 3
            },
            "file_extension": ".py",
            "mimetype": "text/x-python",
            "name": "python",
            "nbconvert_exporter": "python",
            "pygments_lexer": "ipython3",
            "version": "3.6.8"
        }
    },
    "nbformat": 4,
    "nbformat_minor": 2
}