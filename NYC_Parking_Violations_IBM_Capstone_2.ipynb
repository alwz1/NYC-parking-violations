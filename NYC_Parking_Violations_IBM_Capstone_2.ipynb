{
    "cells": [
        {
            "cell_type": "code",
            "execution_count": 1,
            "metadata": {},
            "outputs": [
                {
                    "name": "stdout",
                    "output_type": "stream",
                    "text": "Waiting for a Spark session to start...\nSpark Initialization Done! ApplicationId = app-20200430200001-0001\nKERNEL_ID = e6284fbc-ee74-419c-b7ec-48327368b91e\n"
                }
            ],
            "source": "# The code was removed by Watson Studio for sharing."
        },
        {
            "cell_type": "markdown",
            "metadata": {},
            "source": "## NYC_Parking_Violations_IBM_Capstone\n### Notebook 2\n### Extract Transform Load (ETL)"
        },
        {
            "cell_type": "code",
            "execution_count": 2,
            "metadata": {},
            "outputs": [],
            "source": "import numpy as np\nimport pandas as pd\nfrom pyspark.sql.functions import (dayofmonth, dayofyear, month, year,\n                                   weekofyear, datediff, to_date, col)"
        },
        {
            "cell_type": "code",
            "execution_count": 3,
            "metadata": {},
            "outputs": [
                {
                    "data": {
                        "text/plain": "[Row(Plate='126798R', State='NJ', License Type='PAS', Summons Number='8604887570', Issue Date='05/17/2018', Violation Time='04:12P', Violation='FIRE HYDRANT', Judgment Entry Date=None, Fine Amount='115.00', Penalty Amount='10.00', Interest Amount='0.00', Reduction Amount='0.00', Payment Amount='0.00', Amount Due='125.00', Precinct='115', County='Q', Issuing Agency='TRAFFIC', Violation Status=None, Summons Image='View Summons (http://nycserv.nyc.gov/NYCServWeb/ShowImage?searchID=VDBSWmQwNUVaelJPZWxVelRVRTlQUT09&locationName=_____________________)')]"
                    },
                    "execution_count": 3,
                    "metadata": {},
                    "output_type": "execute_result"
                }
            ],
            "source": "# The code was removed by Watson Studio for sharing."
        },
        {
            "cell_type": "code",
            "execution_count": 4,
            "metadata": {},
            "outputs": [],
            "source": "df = df_data_1"
        },
        {
            "cell_type": "code",
            "execution_count": 5,
            "metadata": {},
            "outputs": [
                {
                    "data": {
                        "text/plain": "['Plate',\n 'State',\n 'License Type',\n 'Summons Number',\n 'Issue Date',\n 'Violation Time',\n 'Violation',\n 'Judgment Entry Date',\n 'Fine Amount',\n 'Penalty Amount',\n 'Interest Amount',\n 'Reduction Amount',\n 'Payment Amount',\n 'Amount Due',\n 'Precinct',\n 'County',\n 'Issuing Agency',\n 'Violation Status',\n 'Summons Image']"
                    },
                    "execution_count": 5,
                    "metadata": {},
                    "output_type": "execute_result"
                }
            ],
            "source": "df.columns"
        },
        {
            "cell_type": "code",
            "execution_count": 6,
            "metadata": {},
            "outputs": [],
            "source": "# Dropping id columns and columns with many missing values\ndf_1 = df.drop('Plate',\n               'Summons Number',\n               'Violation Time',\n               'Judgment Entry Date',\n               'Interest Amount',\n               'Violation Status',\n               'Summons Image').na.drop()"
        },
        {
            "cell_type": "code",
            "execution_count": 7,
            "metadata": {},
            "outputs": [],
            "source": "# Renaming a few columns to avoid issue with filtering\ndf_2 = df_1.withColumnRenamed('License Type', 'License_Type').\\\n    withColumnRenamed('Issuing Agency', 'Issuing_Agency')"
        },
        {
            "cell_type": "code",
            "execution_count": 8,
            "metadata": {},
            "outputs": [
                {
                    "data": {
                        "text/plain": "['State',\n 'License_Type',\n 'Issue Date',\n 'Violation',\n 'Fine Amount',\n 'Penalty Amount',\n 'Reduction Amount',\n 'Payment Amount',\n 'Amount Due',\n 'Precinct',\n 'County',\n 'Issuing_Agency']"
                    },
                    "execution_count": 8,
                    "metadata": {},
                    "output_type": "execute_result"
                }
            ],
            "source": "df_2.columns"
        },
        {
            "cell_type": "code",
            "execution_count": 9,
            "metadata": {},
            "outputs": [],
            "source": "# top 12 states\n# top 4  violation categories\n# top 10 counties\n# top 10 License types\n# top 5 Issusing agencies\n\ndf_3 = df_2.filter('State in (\"NY\", \"NJ\", \"PA\", \"FL\", \"CT\", \\\n                   \"IN\", \"MA\", \"VA\", \"NC\", \"MD\",\"TX\",\"GA\")')\\\n           .filter('Violation in (\"NO PARKING-STREET CLEANING\", \\\n                   \"PHTO SCHOOL ZN SPEED VIOLATION\", \\\n                   \"FAIL TO DSPLY MUNI METER RECPT\", \\\n                   \"NO STANDING-DAY/TIME LIMITS\")') \\\n           .filter('County in (\"NY\", \"K\", \"Q\", \"BX\", \"BK\",\\\n                  \"QN\", \"ST\", \"R\", \"MN\", \"QUEEN\") ')\\\n           .filter('License_Type in (\"PAS\", \"COM\", \"OMT\", \"OMS\", \\\n                  \"SRF\", \"999\",\"APP\",\"IRP\",\"MOT\",\"TRC\") ')\\\n           .filter('Issuing_Agency in (\"TRAFFIC\", \\\n                                      \"DEPARTMENT OF TRANSPORTATION\", \\\n                                      \"DEPARTMENT OF SANITATION\", \\\n                                      \"POLICE DEPARTMENT\",\\\n                                      \"OTHER/UNKNOWN AGENCIES\")')"
        },
        {
            "cell_type": "code",
            "execution_count": 10,
            "metadata": {},
            "outputs": [],
            "source": "df_4 = df_3.sample(True,0.01)"
        },
        {
            "cell_type": "markdown",
            "metadata": {},
            "source": "## Feature Engineering / Data Cleansing"
        },
        {
            "cell_type": "markdown",
            "metadata": {},
            "source": "## Transforming date entries"
        },
        {
            "cell_type": "code",
            "execution_count": 11,
            "metadata": {},
            "outputs": [],
            "source": "# Convert string dates to date_time format\ndf_5 = df_4.withColumn(\n    \"Issue Date\", to_date(\"Issue Date\", \"MM/dd/yyyy\"))"
        },
        {
            "cell_type": "code",
            "execution_count": 12,
            "metadata": {},
            "outputs": [],
            "source": "# Add feature columns: Year, Month, and Day\ndf_6 = df_5.withColumn('Year', year(df_5['Issue Date']))\\\n    .withColumn('Month', month(df_5['Issue Date']))\\\n    .withColumn('Day', dayofmonth(df_5['Issue Date']))"
        },
        {
            "cell_type": "code",
            "execution_count": 13,
            "metadata": {},
            "outputs": [
                {
                    "name": "stdout",
                    "output_type": "stream",
                    "text": "+----------+----+-----+---+\n|Issue Date|Year|Month|Day|\n+----------+----+-----+---+\n|2018-05-17|2018|    5| 17|\n|2017-10-04|2017|   10|  4|\n|2018-02-06|2018|    2|  6|\n|2018-02-15|2018|    2| 15|\n|2018-03-06|2018|    3|  6|\n+----------+----+-----+---+\nonly showing top 5 rows\n\n"
                }
            ],
            "source": "df_6.select('Issue Date','Year','Month','Day').show(5)"
        },
        {
            "cell_type": "code",
            "execution_count": 14,
            "metadata": {},
            "outputs": [],
            "source": "# Remove non-sensible years, months, and days\n# Drop Issue Date since Year, Monty, Day columns have been added already\ndf_7 = df_6[(df_6['Year'] <= 2020) & (df_6['Month'] <= 12)\n            & (df_6['Day'] <= 31)].drop('Issue Date')"
        },
        {
            "cell_type": "code",
            "execution_count": 15,
            "metadata": {},
            "outputs": [
                {
                    "data": {
                        "text/plain": "['State',\n 'License_Type',\n 'Violation',\n 'Fine Amount',\n 'Penalty Amount',\n 'Reduction Amount',\n 'Payment Amount',\n 'Amount Due',\n 'Precinct',\n 'County',\n 'Issuing_Agency',\n 'Year',\n 'Month',\n 'Day']"
                    },
                    "execution_count": 15,
                    "metadata": {},
                    "output_type": "execute_result"
                }
            ],
            "source": "df_7.columns"
        },
        {
            "cell_type": "markdown",
            "metadata": {},
            "source": "## Indexing Strings"
        },
        {
            "cell_type": "code",
            "execution_count": 16,
            "metadata": {},
            "outputs": [],
            "source": "# index string columns\nfrom pyspark.ml import Pipeline\nfrom pyspark.ml.feature import StringIndexer\n\nindexers = [StringIndexer(inputCol=column, outputCol=column+\"_index\")\n            .fit(df_7) for column in ['State',\n                                      'License_Type',\n                                      'Violation',\n                                      'County',\n                                      'Issuing_Agency']]\n\npipeline = Pipeline(stages=indexers)\n\n# fit, transform\n# drop non-indexed string columns\ndf_8 = pipeline.fit(df_7).transform(df_7).drop('State',\n                                               'License_Type',\n                                               'Violation',\n                                               'County',\n                                               'Issuing_Agency')"
        },
        {
            "cell_type": "code",
            "execution_count": 17,
            "metadata": {},
            "outputs": [],
            "source": "df_pd = df_8.toPandas()"
        },
        {
            "cell_type": "code",
            "execution_count": 18,
            "metadata": {},
            "outputs": [
                {
                    "data": {
                        "text/plain": "Fine Amount             False\nPenalty Amount          False\nReduction Amount        False\nPayment Amount          False\nAmount Due              False\nPrecinct                False\nYear                    False\nMonth                   False\nDay                     False\nState_index             False\nLicense_Type_index      False\nViolation_index         False\nCounty_index            False\nIssuing_Agency_index    False\ndtype: bool"
                    },
                    "execution_count": 18,
                    "metadata": {},
                    "output_type": "execute_result"
                }
            ],
            "source": "# Check if there are any null values left\ndf_pd.isnull().any()"
        },
        {
            "cell_type": "code",
            "execution_count": 19,
            "metadata": {},
            "outputs": [
                {
                    "data": {
                        "text/html": "<div>\n<style scoped>\n    .dataframe tbody tr th:only-of-type {\n        vertical-align: middle;\n    }\n\n    .dataframe tbody tr th {\n        vertical-align: top;\n    }\n\n    .dataframe thead th {\n        text-align: right;\n    }\n</style>\n<table border=\"1\" class=\"dataframe\">\n  <thead>\n    <tr style=\"text-align: right;\">\n      <th></th>\n      <th>Fine Amount</th>\n      <th>Penalty Amount</th>\n      <th>Reduction Amount</th>\n      <th>Payment Amount</th>\n      <th>Amount Due</th>\n      <th>Precinct</th>\n      <th>Year</th>\n      <th>Month</th>\n      <th>Day</th>\n      <th>State_index</th>\n      <th>License_Type_index</th>\n      <th>Violation_index</th>\n      <th>County_index</th>\n      <th>Issuing_Agency_index</th>\n    </tr>\n  </thead>\n  <tbody>\n    <tr>\n      <th>0</th>\n      <td>45.00</td>\n      <td>60.00</td>\n      <td>0.00</td>\n      <td>0.00</td>\n      <td>117.83</td>\n      <td>072</td>\n      <td>2018</td>\n      <td>5</td>\n      <td>17</td>\n      <td>0.0</td>\n      <td>1.0</td>\n      <td>0.0</td>\n      <td>0.0</td>\n      <td>0.0</td>\n    </tr>\n    <tr>\n      <th>1</th>\n      <td>35.00</td>\n      <td>60.00</td>\n      <td>0.00</td>\n      <td>0.00</td>\n      <td>111.39</td>\n      <td>114</td>\n      <td>2017</td>\n      <td>10</td>\n      <td>4</td>\n      <td>2.0</td>\n      <td>0.0</td>\n      <td>2.0</td>\n      <td>2.0</td>\n      <td>0.0</td>\n    </tr>\n    <tr>\n      <th>2</th>\n      <td>35.00</td>\n      <td>10.00</td>\n      <td>0.00</td>\n      <td>0.00</td>\n      <td>45.00</td>\n      <td>110</td>\n      <td>2018</td>\n      <td>2</td>\n      <td>6</td>\n      <td>0.0</td>\n      <td>1.0</td>\n      <td>2.0</td>\n      <td>2.0</td>\n      <td>0.0</td>\n    </tr>\n    <tr>\n      <th>3</th>\n      <td>35.00</td>\n      <td>10.00</td>\n      <td>0.00</td>\n      <td>0.00</td>\n      <td>45.00</td>\n      <td>108</td>\n      <td>2018</td>\n      <td>2</td>\n      <td>15</td>\n      <td>0.0</td>\n      <td>1.0</td>\n      <td>2.0</td>\n      <td>2.0</td>\n      <td>0.0</td>\n    </tr>\n    <tr>\n      <th>4</th>\n      <td>35.00</td>\n      <td>60.00</td>\n      <td>0.00</td>\n      <td>0.00</td>\n      <td>108.19</td>\n      <td>110</td>\n      <td>2018</td>\n      <td>3</td>\n      <td>6</td>\n      <td>0.0</td>\n      <td>2.0</td>\n      <td>2.0</td>\n      <td>2.0</td>\n      <td>0.0</td>\n    </tr>\n  </tbody>\n</table>\n</div>",
                        "text/plain": "  Fine Amount Penalty Amount Reduction Amount Payment Amount Amount Due  \\\n0       45.00          60.00             0.00           0.00     117.83   \n1       35.00          60.00             0.00           0.00     111.39   \n2       35.00          10.00             0.00           0.00      45.00   \n3       35.00          10.00             0.00           0.00      45.00   \n4       35.00          60.00             0.00           0.00     108.19   \n\n  Precinct  Year  Month  Day  State_index  License_Type_index  \\\n0      072  2018      5   17          0.0                 1.0   \n1      114  2017     10    4          2.0                 0.0   \n2      110  2018      2    6          0.0                 1.0   \n3      108  2018      2   15          0.0                 1.0   \n4      110  2018      3    6          0.0                 2.0   \n\n   Violation_index  County_index  Issuing_Agency_index  \n0              0.0           0.0                   0.0  \n1              2.0           2.0                   0.0  \n2              2.0           2.0                   0.0  \n3              2.0           2.0                   0.0  \n4              2.0           2.0                   0.0  "
                    },
                    "execution_count": 19,
                    "metadata": {},
                    "output_type": "execute_result"
                }
            ],
            "source": "df_pd.head()"
        },
        {
            "cell_type": "markdown",
            "metadata": {},
            "source": "### Save data for modeling"
        },
        {
            "cell_type": "code",
            "execution_count": 24,
            "metadata": {},
            "outputs": [],
            "source": "#project.save_data(\"sampled_data_2.csv\", df_pd.to_csv())"
        }
    ],
    "metadata": {
        "kernelspec": {
            "display_name": "Python 3.6 with Spark",
            "language": "python3",
            "name": "python36"
        },
        "language_info": {
            "codemirror_mode": {
                "name": "ipython",
                "version": 3
            },
            "file_extension": ".py",
            "mimetype": "text/x-python",
            "name": "python",
            "nbconvert_exporter": "python",
            "pygments_lexer": "ipython3",
            "version": "3.6.8"
        }
    },
    "nbformat": 4,
    "nbformat_minor": 2
}